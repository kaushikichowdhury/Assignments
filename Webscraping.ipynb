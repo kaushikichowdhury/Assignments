{
  "nbformat": 4,
  "nbformat_minor": 0,
  "metadata": {
    "colab": {
      "provenance": [],
      "authorship_tag": "ABX9TyOgpl7TFEPAxSh6GOJ5Fbhh",
      "include_colab_link": true
    },
    "kernelspec": {
      "name": "python3",
      "display_name": "Python 3"
    },
    "language_info": {
      "name": "python"
    }
  },
  "cells": [
    {
      "cell_type": "markdown",
      "metadata": {
        "id": "view-in-github",
        "colab_type": "text"
      },
      "source": [
        "<a href=\"https://colab.research.google.com/github/kaushikichowdhury/I-28/blob/main/Webscraping.ipynb\" target=\"_parent\"><img src=\"https://colab.research.google.com/assets/colab-badge.svg\" alt=\"Open In Colab\"/></a>"
      ]
    },
    {
      "cell_type": "code",
      "execution_count": null,
      "metadata": {
        "id": "ciUF26bECaZe"
      },
      "outputs": [],
      "source": [
        "import requests\n",
        "from bs4 import BeautifulSoup"
      ]
    },
    {
      "cell_type": "code",
      "source": [
        "keywords= [\"dog\",\"dogs\",\"puppy\",\"puppies\"]"
      ],
      "metadata": {
        "id": "bmmIyT1aFg22"
      },
      "execution_count": null,
      "outputs": []
    },
    {
      "cell_type": "markdown",
      "source": [
        "## Times of India"
      ],
      "metadata": {
        "id": "Tcf4I-MpSJRz"
      }
    },
    {
      "cell_type": "code",
      "source": [
        "base_url1= \"https://timesofindia.indiatimes.com/topic/animal-cruelty\""
      ],
      "metadata": {
        "id": "g50OuWMhR5cB"
      },
      "execution_count": null,
      "outputs": []
    },
    {
      "cell_type": "code",
      "source": [
        "response = requests.get(base_url1)  #sends a request to the specified URL to retrieve the entire web page content\n",
        "response.raise_for_status()  #  Checks if the request was successful and raises an exception for failed requests (e.g., 404 Not Found, 500 Server Error) and Prevents script from continuing with invalid responses"
      ],
      "metadata": {
        "id": "zyW-20OeGDkG"
      },
      "execution_count": null,
      "outputs": []
    },
    {
      "cell_type": "code",
      "source": [
        "soup = BeautifulSoup(response.text, \"html.parser\") #parse home page"
      ],
      "metadata": {
        "id": "MOx5n1utGLjT"
      },
      "execution_count": null,
      "outputs": []
    },
    {
      "cell_type": "code",
      "source": [
        "# Find all the links you want to scrape\n",
        "# Example: Extract all <a> tags with relevant class or href pattern\n",
        "link_elements1 = soup.find_all(\"a\", href=True)"
      ],
      "metadata": {
        "id": "aQb243ZwGVgg"
      },
      "execution_count": null,
      "outputs": []
    },
    {
      "cell_type": "code",
      "source": [
        "# Initialize counter\n",
        "link_count = 0\n",
        "\n",
        "# Iterate through each link\n",
        "for link in link_elements1:\n",
        "    link_url1 = link[\"href\"]\n",
        "\n",
        "    # Check if any keyword is present in the URL or link text\n",
        "    if any(keyword in link_url1.lower() or keyword in link.text.lower() for keyword in keywords):\n",
        "        print(f\"Available Link: {link_url1}\")\n",
        "        link_count += 1  # Increment the counter\n",
        "\n",
        "# Print the total count of matching links\n",
        "print(f\"\\nTotal Available Links: {link_count}\")"
      ],
      "metadata": {
        "colab": {
          "base_uri": "https://localhost:8080/"
        },
        "id": "MKwqCnnUGmb_",
        "outputId": "228bad1a-a999-43d9-db22-3c360d0776dc"
      },
      "execution_count": null,
      "outputs": [
        {
          "output_type": "stream",
          "name": "stdout",
          "text": [
            "Available Link: https://timesofindia.indiatimes.com/city/gurgaon/car-mows-down-dog-in-gurgaons-surat-nagar-fir-registered/articleshow/119429377.cms\n",
            "Available Link: https://timesofindia.indiatimes.com/city/bhubaneswar/case-registered-after-stray-dog-attacked-with-sword/articleshow/119386270.cms\n",
            "Available Link: https://timesofindia.indiatimes.com/etimes/trending/shocking-man-caught-doing-this-to-an-innocent-dog-video-sparks-massive-outrage/articleshow/119292194.cms\n",
            "Available Link: https://timesofindia.indiatimes.com/city/ludhiana/2-puppies-6-pigeons-killed-3-booked-in-ludhiana-for-cruelty-to-animals/articleshow/119314167.cms\n",
            "Available Link: https://timesofindia.indiatimes.com/world/us/florida-woman-drowns-dog-in-airport-bathroom-after-being-denied-boarding-arrested/articleshow/119316064.cms\n",
            "Available Link: https://timesofindia.indiatimes.com/city/guwahati/tripura-youth-held-for-killing-street-dog/articleshow/119053700.cms\n",
            "Available Link: https://timesofindia.indiatimes.com/world/us/michigan-trio-arrested-after-starving-animals-dead-puppy-found-in-deplorable-home-with-9-year-old-boy/articleshow/119317100.cms\n",
            "Available Link: https://timesofindia.indiatimes.com/city/chennai/corporation-to-set-up-vallalar-biodiverse-shelters-for-stray-dogs/articleshow/119270061.cms\n",
            "Available Link: https://timesofindia.indiatimes.com/videos/news/shocking-youth-spins-dog-tosses-it-against-a-wall/videoshow/54199380.cms\n",
            "\n",
            "Total Available Links: 9\n"
          ]
        }
      ]
    },
    {
      "cell_type": "markdown",
      "source": [
        "## The Indian Express"
      ],
      "metadata": {
        "id": "2w43Vs5ySUsR"
      }
    },
    {
      "cell_type": "code",
      "source": [
        "base_url2= \"https://indianexpress.com/about/animal-cruelty/\"\n",
        "\n",
        "response = requests.get(base_url2)\n",
        "response.raise_for_status()\n",
        "\n",
        "soup = BeautifulSoup(response.text, \"html.parser\")\n",
        "\n",
        "# Set to store unique URLs\n",
        "unique_links = set()\n",
        "\n",
        "link_elements2 = soup.find_all(\"a\", href=True)\n",
        "\n",
        "link_count = 0\n",
        "\n",
        "for link in link_elements2:\n",
        "    link_url2 = link[\"href\"]\n",
        "\n",
        "    # Check if any keyword matches and add unique links\n",
        "    if any(keyword in link_url2.lower() or keyword in link.text.lower() for keyword in keywords):\n",
        "        unique_links.add(link_url2)\n",
        "\n",
        "# Print unique links only\n",
        "for link in unique_links:\n",
        "    print(f\"Available Link: {link}\")\n",
        "    link_count += 1\n",
        "\n",
        "print(f\"\\nTotal Available Links: {link_count}\")"
      ],
      "metadata": {
        "colab": {
          "base_uri": "https://localhost:8080/"
        },
        "id": "18iNMMUISiv5",
        "outputId": "4ec2c10c-ae94-40d1-b6f5-9aa3da819a8e"
      },
      "execution_count": null,
      "outputs": [
        {
          "output_type": "stream",
          "name": "stdout",
          "text": [
            "Available Link: https://indianexpress.com/article/trending/trending-in-india/dog-walker-hits-pet-golden-retriever-gurugram-viral-video-9324947/\n",
            "Available Link: https://indianexpress.com/article/cities/pune/students-accuse-punes-flame-university-of-cruelty-to-dogs-university-denies-charges-9729519/\n",
            "Available Link: https://indianexpress.com/article/world/indian-origin-man-uk-suspended-sentence-starving-chaining-pet-dog-8843780/\n",
            "\n",
            "Total Available Links: 3\n"
          ]
        }
      ]
    },
    {
      "cell_type": "markdown",
      "source": [
        "## NDTV"
      ],
      "metadata": {
        "id": "g6gzC-TVSa6c"
      }
    },
    {
      "cell_type": "code",
      "source": [
        "base_url3= \"https://www.ndtv.com/topic/animal-cruelty\"\n",
        "\n",
        "response = requests.get(base_url3)\n",
        "response.raise_for_status()\n",
        "\n",
        "soup = BeautifulSoup(response.text, \"html.parser\")\n",
        "\n",
        "unique_links = set()\n",
        "\n",
        "link_elements3 = soup.find_all(\"a\", href=True)\n",
        "\n",
        "link_count = 0\n",
        "\n",
        "# Iterate through each link and clean them if necessary\n",
        "for link in link_elements3:\n",
        "    link_url3 = link[\"href\"]\n",
        "\n",
        "    # Check if it's a mailto link\n",
        "    if link_url3.startswith(\"mailto:\"):\n",
        "        # Extract the actual URL from 'body=' if present\n",
        "        if \"body=\" in link_url3:\n",
        "            link_url3 = link_url3.split(\"body=\")[-1]\n",
        "\n",
        "        # Remove any extra parameters after '&' if present\n",
        "        link_url3 = link_url3.split(\"&\")[0]\n",
        "\n",
        "    # Remove 'Check out this link' if present in the link URL\n",
        "    link_url3 = link_url3.replace(\"Check out this link \", \"\").strip()\n",
        "\n",
        "    # Check if the cleaned URL contains any keyword and is not already added\n",
        "    if any(keyword in link_url3.lower() or keyword in link.text.lower() for keyword in keywords):\n",
        "        unique_links.add(link_url3)\n",
        "\n",
        "# Count and display the total number of unique links\n",
        "link_count = len(unique_links)\n",
        "\n",
        "# Print all available links\n",
        "for link in unique_links:\n",
        "    print(f\"Available Link: {link}\")\n",
        "\n",
        "print(f\"\\nTotal Available Links: {link_count}\")"
      ],
      "metadata": {
        "colab": {
          "base_uri": "https://localhost:8080/"
        },
        "id": "w7zORUUJVrJd",
        "outputId": "355c7967-99d4-417e-e267-0f05f02ee2c2"
      },
      "execution_count": null,
      "outputs": [
        {
          "output_type": "stream",
          "name": "stdout",
          "text": [
            "Available Link: https://www.ndtv.com/offbeat/475-year-sentence-us-man-receives-longest-ever-prison-term-for-dog-fighting-7638702\n",
            "Available Link: https://www.ndtv.com/india-news/4-stray-dogs-thrashed-in-telangana-pregnant-canine-among-3-killed-7011352\n",
            "Available Link: https://www.ndtv.com/india-news/case-against-elderly-woman-for-throwing-acid-at-puppy-in-gurugram-cops-5101316\n",
            "Available Link: https://www.ndtv.com/video/spotlight-on-stray-dog-menace-after-wagh-bakri-director-s-death-734125\n",
            "Available Link: https://www.ndtv.com/india-news/tied-up-dogs-were-being-thrown-off-a-bridge-in-madhya-pradesh-rescued-6255015\n",
            "Available Link: https://www.ndtv.com/india-news/delhi-couple-leaves-dog-at-pet-boarding-he-goes-missing-later-found-dead-6892508\n",
            "Available Link: https://www.ndtv.com/noida-news/man-caught-on-camera-abusing-pet-dog-in-greater-noida-arrested-7075742\n",
            "\n",
            "Total Available Links: 7\n"
          ]
        }
      ]
    }
  ]
}